{
  "metadata": {
    "language_info": {
      "codemirror_mode": {
        "name": "python",
        "version": 3
      },
      "file_extension": ".py",
      "mimetype": "text/x-python",
      "name": "python",
      "nbconvert_exporter": "python",
      "pygments_lexer": "ipython3",
      "version": "3.8"
    },
    "kernelspec": {
      "name": "python",
      "display_name": "Pyolite",
      "language": "python"
    }
  },
  "nbformat_minor": 4,
  "nbformat": 4,
  "cells": [
    {
      "cell_type": "markdown",
      "source": "# Data Science Tools and Ecosystem",
      "metadata": {}
    },
    {
      "cell_type": "markdown",
      "source": "# In this notebook, Data science tools are explained",
      "metadata": {}
    },
    {
      "cell_type": "markdown",
      "source": "# *Objectives:*\n- Create a Jupyter Notebook with markdown and code cells\n- List examples of languages, libraries and tools used in Data Science\n- Share your Jupyter Notebook publicly on GitHub\n- Evaluate notebooks submitted by your peers using the provided rubric\n- Demonstrate proficiency in Data Science toolkit knowledge",
      "metadata": {}
    },
    {
      "cell_type": "markdown",
      "source": "# Some of the popular languages that Data Scientists use are:\n1. Python\n2. R\n3. SQL\n4. Java\n5. Scala\n6. C++\n",
      "metadata": {}
    },
    {
      "cell_type": "markdown",
      "source": "# Some of the commonly used libraries used by Data Scientists include:\n1. Scientific Computing Libraries in Python\n2. Visualization Libraries in Python\n3. High-level Machine Learning and Deep Learning\n4. Deep Learning Libraries in Python\n5. Libraries used in other languages",
      "metadata": {}
    },
    {
      "cell_type": "markdown",
      "source": "( Data Science Tools)\n( ----------------- )\n( Open-source data management tools )\n( Data visualization tools )\n( List the model tools for building, deployment, monitoring, assessment and code )",
      "metadata": {}
    },
    {
      "cell_type": "markdown",
      "source": "| Data Science Tools| \n| ----------------- | \n| Open-source data management tools |\n| Data visualization tools | \n| List the model tools for building, deployment, monitoring, assessment and code |",
      "metadata": {}
    },
    {
      "cell_type": "markdown",
      "source": "# Below are a few examples of evaluating arithmetic expressions in Python\n### A+B\n### A-B\n### A.B",
      "metadata": {}
    },
    {
      "cell_type": "code",
      "source": "# This a simple arithmetic expression to mutiply then add integers\n\n(3*4)+5",
      "metadata": {
        "trusted": true
      },
      "execution_count": 3,
      "outputs": [
        {
          "execution_count": 3,
          "output_type": "execute_result",
          "data": {
            "text/plain": "17"
          },
          "metadata": {}
        }
      ]
    },
    {
      "cell_type": "code",
      "source": "# This will convert 200 minutes to hours by diving by 60\n200/60",
      "metadata": {
        "trusted": true
      },
      "execution_count": 4,
      "outputs": [
        {
          "execution_count": 4,
          "output_type": "execute_result",
          "data": {
            "text/plain": "3.3333333333333335"
          },
          "metadata": {}
        }
      ]
    },
    {
      "cell_type": "markdown",
      "source": "## Author\n\n### Ignacio Andres Berbeglia",
      "metadata": {}
    },
    {
      "cell_type": "code",
      "source": "",
      "metadata": {},
      "execution_count": null,
      "outputs": []
    }
  ]
}